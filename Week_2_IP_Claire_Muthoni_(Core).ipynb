{
  "nbformat": 4,
  "nbformat_minor": 0,
  "metadata": {
    "colab": {
      "name": "Week 2 - IP Claire Muthoni (Core)",
      "provenance": [],
      "collapsed_sections": []
    },
    "kernelspec": {
      "name": "python3",
      "display_name": "Python 3"
    }
  },
  "cells": [
    {
      "cell_type": "markdown",
      "metadata": {
        "id": "KSvMpWhjtt7E"
      },
      "source": [
        "#  Univariate, Bivariate and Multi-variate Exploratory data analysis "
      ]
    },
    {
      "cell_type": "markdown",
      "metadata": {
        "id": "kv-S_bUcuOwH"
      },
      "source": [
        "##  1. Defining the question"
      ]
    },
    {
      "cell_type": "markdown",
      "metadata": {
        "id": "QksvV4mruUPX"
      },
      "source": [
        "###  a) Specifying the analytic data question"
      ]
    },
    {
      "cell_type": "markdown",
      "metadata": {
        "id": "7K0d7UoLucPr"
      },
      "source": [
        "how we can predict which individuals are most likely to have or use a bank account."
      ]
    },
    {
      "cell_type": "markdown",
      "metadata": {
        "id": "bOY5SF9uudDs"
      },
      "source": [
        "### b)Defining the metric for success"
      ]
    },
    {
      "cell_type": "markdown",
      "metadata": {
        "id": "BWbfTos-ulKj"
      },
      "source": [
        "finding the factors that are related to having a bank account"
      ]
    },
    {
      "cell_type": "markdown",
      "metadata": {
        "id": "BOUb6W-aulpA"
      },
      "source": [
        "### c) Understanding the context \r\n",
        "\r\n"
      ]
    },
    {
      "cell_type": "markdown",
      "metadata": {
        "id": "lS5BxCQ2uwKH"
      },
      "source": [
        "factors such as size of households , "
      ]
    },
    {
      "cell_type": "markdown",
      "metadata": {
        "id": "LwpGtRJMuw-m"
      },
      "source": [
        "###  d) Recording the experimental design "
      ]
    },
    {
      "cell_type": "markdown",
      "metadata": {
        "id": "bgHq-94wu6n3"
      },
      "source": [
        ""
      ]
    },
    {
      "cell_type": "markdown",
      "metadata": {
        "id": "l00ejlS3u7Ry"
      },
      "source": [
        "### e) Data Relevance "
      ]
    },
    {
      "cell_type": "markdown",
      "metadata": {
        "id": "ILHK1G-2vDmW"
      },
      "source": [
        "##  2. Reading the data "
      ]
    },
    {
      "cell_type": "code",
      "metadata": {
        "id": "OVxMppMSvQV5"
      },
      "source": [
        "# Importing the libraries that we plan on using\r\n",
        "import pandas as pd \r\n",
        "import numpy as np \r\n",
        "import sklearn.datasets \r\n",
        "import matplotlib.pyplot as plt \r\n",
        "import seaborn as sns \r\n"
      ],
      "execution_count": 220,
      "outputs": []
    },
    {
      "cell_type": "code",
      "metadata": {
        "id": "FwPa1Zw3vQhv"
      },
      "source": [
        "# Reading the data files provided \r\n",
        "df = pd.read_csv('http://bit.ly/FinancialDataset')"
      ],
      "execution_count": 221,
      "outputs": []
    },
    {
      "cell_type": "markdown",
      "metadata": {
        "id": "-XKj_7dJvgGk"
      },
      "source": [
        "##  3.Checking the data "
      ]
    },
    {
      "cell_type": "code",
      "metadata": {
        "colab": {
          "base_uri": "https://localhost:8080/",
          "height": 204
        },
        "id": "L9YicOKnvno-",
        "outputId": "91cef1d6-63a9-4fc2-a38b-7ec0df614730"
      },
      "source": [
        "# Previewing the first few recors in our dataset \r\n",
        "df.head()"
      ],
      "execution_count": 222,
      "outputs": [
        {
          "output_type": "execute_result",
          "data": {
            "text/html": [
              "<div>\n",
              "<style scoped>\n",
              "    .dataframe tbody tr th:only-of-type {\n",
              "        vertical-align: middle;\n",
              "    }\n",
              "\n",
              "    .dataframe tbody tr th {\n",
              "        vertical-align: top;\n",
              "    }\n",
              "\n",
              "    .dataframe thead th {\n",
              "        text-align: right;\n",
              "    }\n",
              "</style>\n",
              "<table border=\"1\" class=\"dataframe\">\n",
              "  <thead>\n",
              "    <tr style=\"text-align: right;\">\n",
              "      <th></th>\n",
              "      <th>country</th>\n",
              "      <th>year</th>\n",
              "      <th>uniqueid</th>\n",
              "      <th>Has a Bank account</th>\n",
              "      <th>Type of Location</th>\n",
              "      <th>Cell Phone Access</th>\n",
              "      <th>household_size</th>\n",
              "      <th>Respondent Age</th>\n",
              "      <th>gender_of_respondent</th>\n",
              "      <th>The relathip with head</th>\n",
              "      <th>marital_status</th>\n",
              "      <th>Level of Educuation</th>\n",
              "      <th>Type of Job</th>\n",
              "    </tr>\n",
              "  </thead>\n",
              "  <tbody>\n",
              "    <tr>\n",
              "      <th>0</th>\n",
              "      <td>Kenya</td>\n",
              "      <td>2018</td>\n",
              "      <td>uniqueid_1</td>\n",
              "      <td>Yes</td>\n",
              "      <td>Rural</td>\n",
              "      <td>Yes</td>\n",
              "      <td>3.0</td>\n",
              "      <td>24.0</td>\n",
              "      <td>Female</td>\n",
              "      <td>Spouse</td>\n",
              "      <td>Married/Living together</td>\n",
              "      <td>Secondary education</td>\n",
              "      <td>Self employed</td>\n",
              "    </tr>\n",
              "    <tr>\n",
              "      <th>1</th>\n",
              "      <td>Kenya</td>\n",
              "      <td>2018</td>\n",
              "      <td>uniqueid_2</td>\n",
              "      <td>No</td>\n",
              "      <td>Rural</td>\n",
              "      <td>No</td>\n",
              "      <td>5.0</td>\n",
              "      <td>70.0</td>\n",
              "      <td>Female</td>\n",
              "      <td>Head of Household</td>\n",
              "      <td>Widowed</td>\n",
              "      <td>No formal education</td>\n",
              "      <td>Government Dependent</td>\n",
              "    </tr>\n",
              "    <tr>\n",
              "      <th>2</th>\n",
              "      <td>Kenya</td>\n",
              "      <td>2018</td>\n",
              "      <td>uniqueid_3</td>\n",
              "      <td>Yes</td>\n",
              "      <td>Urban</td>\n",
              "      <td>Yes</td>\n",
              "      <td>5.0</td>\n",
              "      <td>26.0</td>\n",
              "      <td>Male</td>\n",
              "      <td>Other relative</td>\n",
              "      <td>Single/Never Married</td>\n",
              "      <td>Vocational/Specialised training</td>\n",
              "      <td>Self employed</td>\n",
              "    </tr>\n",
              "    <tr>\n",
              "      <th>3</th>\n",
              "      <td>Kenya</td>\n",
              "      <td>2018</td>\n",
              "      <td>uniqueid_4</td>\n",
              "      <td>No</td>\n",
              "      <td>Rural</td>\n",
              "      <td>Yes</td>\n",
              "      <td>5.0</td>\n",
              "      <td>34.0</td>\n",
              "      <td>Female</td>\n",
              "      <td>Head of Household</td>\n",
              "      <td>Married/Living together</td>\n",
              "      <td>Primary education</td>\n",
              "      <td>Formally employed Private</td>\n",
              "    </tr>\n",
              "    <tr>\n",
              "      <th>4</th>\n",
              "      <td>Kenya</td>\n",
              "      <td>2018</td>\n",
              "      <td>uniqueid_5</td>\n",
              "      <td>No</td>\n",
              "      <td>Urban</td>\n",
              "      <td>No</td>\n",
              "      <td>8.0</td>\n",
              "      <td>26.0</td>\n",
              "      <td>Male</td>\n",
              "      <td>Child</td>\n",
              "      <td>Single/Never Married</td>\n",
              "      <td>Primary education</td>\n",
              "      <td>Informally employed</td>\n",
              "    </tr>\n",
              "  </tbody>\n",
              "</table>\n",
              "</div>"
            ],
            "text/plain": [
              "  country  year  ...              Level of Educuation                Type of Job\n",
              "0   Kenya  2018  ...              Secondary education              Self employed\n",
              "1   Kenya  2018  ...              No formal education       Government Dependent\n",
              "2   Kenya  2018  ...  Vocational/Specialised training              Self employed\n",
              "3   Kenya  2018  ...                Primary education  Formally employed Private\n",
              "4   Kenya  2018  ...                Primary education        Informally employed\n",
              "\n",
              "[5 rows x 13 columns]"
            ]
          },
          "metadata": {
            "tags": []
          },
          "execution_count": 222
        }
      ]
    },
    {
      "cell_type": "code",
      "metadata": {
        "colab": {
          "base_uri": "https://localhost:8080/",
          "height": 204
        },
        "id": "22Azn5vywGel",
        "outputId": "4a5bf23a-5d20-42cf-9f63-38fe5f542bb0"
      },
      "source": [
        "# Previewing the last few records in our dataset\r\n",
        "df.tail()"
      ],
      "execution_count": 179,
      "outputs": [
        {
          "output_type": "execute_result",
          "data": {
            "text/html": [
              "<div>\n",
              "<style scoped>\n",
              "    .dataframe tbody tr th:only-of-type {\n",
              "        vertical-align: middle;\n",
              "    }\n",
              "\n",
              "    .dataframe tbody tr th {\n",
              "        vertical-align: top;\n",
              "    }\n",
              "\n",
              "    .dataframe thead th {\n",
              "        text-align: right;\n",
              "    }\n",
              "</style>\n",
              "<table border=\"1\" class=\"dataframe\">\n",
              "  <thead>\n",
              "    <tr style=\"text-align: right;\">\n",
              "      <th></th>\n",
              "      <th>country</th>\n",
              "      <th>year</th>\n",
              "      <th>uniqueid</th>\n",
              "      <th>Has a Bank account</th>\n",
              "      <th>Type of Location</th>\n",
              "      <th>Cell Phone Access</th>\n",
              "      <th>household_size</th>\n",
              "      <th>Respondent Age</th>\n",
              "      <th>gender_of_respondent</th>\n",
              "      <th>The relathip with head</th>\n",
              "      <th>marital_status</th>\n",
              "      <th>Level of Educuation</th>\n",
              "      <th>Type of Job</th>\n",
              "    </tr>\n",
              "  </thead>\n",
              "  <tbody>\n",
              "    <tr>\n",
              "      <th>23519</th>\n",
              "      <td>Uganda</td>\n",
              "      <td>2018</td>\n",
              "      <td>uniqueid_2113</td>\n",
              "      <td>No</td>\n",
              "      <td>Rural</td>\n",
              "      <td>Yes</td>\n",
              "      <td>4.0</td>\n",
              "      <td>48.0</td>\n",
              "      <td>Female</td>\n",
              "      <td>Head of Household</td>\n",
              "      <td>Divorced/Seperated</td>\n",
              "      <td>No formal education</td>\n",
              "      <td>Other Income</td>\n",
              "    </tr>\n",
              "    <tr>\n",
              "      <th>23520</th>\n",
              "      <td>Uganda</td>\n",
              "      <td>2018</td>\n",
              "      <td>uniqueid_2114</td>\n",
              "      <td>No</td>\n",
              "      <td>Rural</td>\n",
              "      <td>Yes</td>\n",
              "      <td>2.0</td>\n",
              "      <td>27.0</td>\n",
              "      <td>Female</td>\n",
              "      <td>Head of Household</td>\n",
              "      <td>Single/Never Married</td>\n",
              "      <td>Secondary education</td>\n",
              "      <td>Other Income</td>\n",
              "    </tr>\n",
              "    <tr>\n",
              "      <th>23521</th>\n",
              "      <td>Uganda</td>\n",
              "      <td>2018</td>\n",
              "      <td>uniqueid_2115</td>\n",
              "      <td>No</td>\n",
              "      <td>Rural</td>\n",
              "      <td>Yes</td>\n",
              "      <td>5.0</td>\n",
              "      <td>27.0</td>\n",
              "      <td>Female</td>\n",
              "      <td>Parent</td>\n",
              "      <td>Widowed</td>\n",
              "      <td>Primary education</td>\n",
              "      <td>Other Income</td>\n",
              "    </tr>\n",
              "    <tr>\n",
              "      <th>23522</th>\n",
              "      <td>Uganda</td>\n",
              "      <td>2018</td>\n",
              "      <td>uniqueid_2116</td>\n",
              "      <td>No</td>\n",
              "      <td>Urban</td>\n",
              "      <td>Yes</td>\n",
              "      <td>7.0</td>\n",
              "      <td>30.0</td>\n",
              "      <td>Female</td>\n",
              "      <td>Parent</td>\n",
              "      <td>Divorced/Seperated</td>\n",
              "      <td>Secondary education</td>\n",
              "      <td>Self employed</td>\n",
              "    </tr>\n",
              "    <tr>\n",
              "      <th>23523</th>\n",
              "      <td>Uganda</td>\n",
              "      <td>2018</td>\n",
              "      <td>uniqueid_2117</td>\n",
              "      <td>No</td>\n",
              "      <td>Rural</td>\n",
              "      <td>Yes</td>\n",
              "      <td>10.0</td>\n",
              "      <td>20.0</td>\n",
              "      <td>Male</td>\n",
              "      <td>Child</td>\n",
              "      <td>Single/Never Married</td>\n",
              "      <td>Secondary education</td>\n",
              "      <td>No Income</td>\n",
              "    </tr>\n",
              "  </tbody>\n",
              "</table>\n",
              "</div>"
            ],
            "text/plain": [
              "      country  year  ...  Level of Educuation    Type of Job\n",
              "23519  Uganda  2018  ...  No formal education   Other Income\n",
              "23520  Uganda  2018  ...  Secondary education   Other Income\n",
              "23521  Uganda  2018  ...    Primary education   Other Income\n",
              "23522  Uganda  2018  ...  Secondary education  Self employed\n",
              "23523  Uganda  2018  ...  Secondary education      No Income\n",
              "\n",
              "[5 rows x 13 columns]"
            ]
          },
          "metadata": {
            "tags": []
          },
          "execution_count": 179
        }
      ]
    },
    {
      "cell_type": "code",
      "metadata": {
        "colab": {
          "base_uri": "https://localhost:8080/"
        },
        "id": "BMM94A8tvnxh",
        "outputId": "7d4a5066-ef74-4d52-d29a-5ae03e39c0ca"
      },
      "source": [
        "# Checking the number of records in the dataset\r\n",
        "len(df)"
      ],
      "execution_count": 223,
      "outputs": [
        {
          "output_type": "execute_result",
          "data": {
            "text/plain": [
              "23524"
            ]
          },
          "metadata": {
            "tags": []
          },
          "execution_count": 223
        }
      ]
    },
    {
      "cell_type": "code",
      "metadata": {
        "colab": {
          "base_uri": "https://localhost:8080/"
        },
        "id": "rm9Pc5usvn8p",
        "outputId": "ac8c6b0c-fae1-4154-d67f-1ec255226a4a"
      },
      "source": [
        "# Checking if each column has the appropriate datatype \r\n",
        "df.info()"
      ],
      "execution_count": 224,
      "outputs": [
        {
          "output_type": "stream",
          "text": [
            "<class 'pandas.core.frame.DataFrame'>\n",
            "RangeIndex: 23524 entries, 0 to 23523\n",
            "Data columns (total 13 columns):\n",
            " #   Column                  Non-Null Count  Dtype  \n",
            "---  ------                  --------------  -----  \n",
            " 0   country                 23510 non-null  object \n",
            " 1   year                    23524 non-null  int64  \n",
            " 2   uniqueid                23524 non-null  object \n",
            " 3   Has a Bank account      23488 non-null  object \n",
            " 4   Type of Location        23509 non-null  object \n",
            " 5   Cell Phone Access       23513 non-null  object \n",
            " 6   household_size          23496 non-null  float64\n",
            " 7   Respondent Age          23490 non-null  float64\n",
            " 8   gender_of_respondent    23490 non-null  object \n",
            " 9   The relathip with head  23520 non-null  object \n",
            " 10  marital_status          23492 non-null  object \n",
            " 11  Level of Educuation     23495 non-null  object \n",
            " 12  Type of Job             23494 non-null  object \n",
            "dtypes: float64(2), int64(1), object(10)\n",
            "memory usage: 2.3+ MB\n"
          ],
          "name": "stdout"
        }
      ]
    },
    {
      "cell_type": "markdown",
      "metadata": {
        "id": "LTDiaGe7wK6Y"
      },
      "source": [
        "##  4. Tidying the dataset "
      ]
    },
    {
      "cell_type": "code",
      "metadata": {
        "colab": {
          "base_uri": "https://localhost:8080/",
          "height": 582
        },
        "id": "vKDVghY8wXza",
        "outputId": "95631cbc-1adc-4215-bf12-20bf43b58761"
      },
      "source": [
        "# Checking for outliers \r\n",
        "fig, ((ax1, ax2)) = plt.subplots(1,2,figsize=(20,7))\r\n",
        "fig.suptitle('Boxplots')\r\n",
        "sns.boxplot(df['household_size'], ax=ax1)\r\n",
        "sns.boxplot(df['Respondent Age'], ax=ax2)\r\n",
        "plt.show()\r\n",
        "#By observation there are outliers in the data "
      ],
      "execution_count": 225,
      "outputs": [
        {
          "output_type": "stream",
          "text": [
            "/usr/local/lib/python3.6/dist-packages/seaborn/_decorators.py:43: FutureWarning: Pass the following variable as a keyword arg: x. From version 0.12, the only valid positional argument will be `data`, and passing other arguments without an explicit keyword will result in an error or misinterpretation.\n",
            "  FutureWarning\n",
            "/usr/local/lib/python3.6/dist-packages/seaborn/_decorators.py:43: FutureWarning: Pass the following variable as a keyword arg: x. From version 0.12, the only valid positional argument will be `data`, and passing other arguments without an explicit keyword will result in an error or misinterpretation.\n",
            "  FutureWarning\n"
          ],
          "name": "stderr"
        },
        {
          "output_type": "display_data",
          "data": {
            "image/png": "[encoded data removed]",
            "text/plain": [
              "<Figure size 1440x504 with 2 Axes>"
            ]
          },
          "metadata": {
            "tags": [],
            "needs_background": "light"
          }
        }
      ]
    },
    {
      "cell_type": "code",
      "metadata": {
        "colab": {
          "base_uri": "https://localhost:8080/",
          "height": 35
        },
        "id": "nQLBs1hqwaj8",
        "outputId": "f5010154-6828-47d4-bd48-d2042a5ba1a7"
      },
      "source": [
        "#Checking for anomalies \r\n",
        "# Finding the interquartile range\r\n",
        "q1 = df['household_size'].quantile(.25)\r\n",
        "q3= df['household_size'].quantile(.75)\r\n",
        "iqr = q3 - q1\r\n",
        "#finding the end of the whiskers in the box and whisker\r\n",
        "l_bound = q1 - (1.5*iqr)\r\n",
        "u_bound = q3 + (1.5 * iqr)\r\n",
        "#Checking if there are any values above the whiskers in the data\r\n",
        "def over(x):\r\n",
        "  for x in df['household_size']: \r\n",
        "     if x > u_bound:\r\n",
        "       return 'Anomaly'\r\n",
        "     elif x < u_bound:\r\n",
        "       continue \r\n",
        "     else:\r\n",
        "       break \r\n",
        "over(df)"
      ],
      "execution_count": 226,
      "outputs": [
        {
          "output_type": "execute_result",
          "data": {
            "application/vnd.google.colaboratory.intrinsic+json": {
              "type": "string"
            },
            "text/plain": [
              "'Anomaly'"
            ]
          },
          "metadata": {
            "tags": []
          },
          "execution_count": 226
        }
      ]
    },
    {
      "cell_type": "code",
      "metadata": {
        "colab": {
          "base_uri": "https://localhost:8080/",
          "height": 35
        },
        "id": "f-EMSX5k6kLh",
        "outputId": "d2e99137-ccec-4faf-85de-611cbb8bfd5d"
      },
      "source": [
        "q1_2 = df['Respondent Age'].quantile(.25)\r\n",
        "q3_2= df['Respondent Age'].quantile(.75)\r\n",
        "iqr2 = q3_2 - q1_2\r\n",
        "l_bound = q1_2 - (1.5*iqr)\r\n",
        "u_bound = q3_2 + (1.5 * iqr)\r\n",
        "\r\n",
        "def over(x):\r\n",
        "  for y in df['Respondent Age']: \r\n",
        "     if y > u_bound:\r\n",
        "       return 'Anomaly'\r\n",
        "     elif y < u_bound:\r\n",
        "       continue \r\n",
        "     else:\r\n",
        "       break \r\n",
        "over(df)"
      ],
      "execution_count": 227,
      "outputs": [
        {
          "output_type": "execute_result",
          "data": {
            "application/vnd.google.colaboratory.intrinsic+json": {
              "type": "string"
            },
            "text/plain": [
              "'Anomaly'"
            ]
          },
          "metadata": {
            "tags": []
          },
          "execution_count": 227
        }
      ]
    },
    {
      "cell_type": "code",
      "metadata": {
        "colab": {
          "base_uri": "https://localhost:8080/"
        },
        "id": "1_MB5l3uwdme",
        "outputId": "84d231fe-679d-4fe3-fabc-526385b647cb"
      },
      "source": [
        "#Checking for missing values \r\n",
        "df.isnull().sum()"
      ],
      "execution_count": 228,
      "outputs": [
        {
          "output_type": "execute_result",
          "data": {
            "text/plain": [
              "country                   14\n",
              "year                       0\n",
              "uniqueid                   0\n",
              "Has a Bank account        36\n",
              "Type of Location          15\n",
              "Cell Phone Access         11\n",
              "household_size            28\n",
              "Respondent Age            34\n",
              "gender_of_respondent      34\n",
              "The relathip with head     4\n",
              "marital_status            32\n",
              "Level of Educuation       29\n",
              "Type of Job               30\n",
              "dtype: int64"
            ]
          },
          "metadata": {
            "tags": []
          },
          "execution_count": 228
        }
      ]
    },
    {
      "cell_type": "code",
      "metadata": {
        "id": "6O1Wd-ZvwkIp"
      },
      "source": [
        "# Dealing with missing values \r\n",
        "df = df.dropna()"
      ],
      "execution_count": 229,
      "outputs": []
    },
    {
      "cell_type": "code",
      "metadata": {
        "colab": {
          "base_uri": "https://localhost:8080/"
        },
        "id": "0h-aIey_AeAG",
        "outputId": "a38533fb-69f2-41eb-d588-1e7c262653f6"
      },
      "source": [
        "df.isnull().sum()"
      ],
      "execution_count": 230,
      "outputs": [
        {
          "output_type": "execute_result",
          "data": {
            "text/plain": [
              "country                   0\n",
              "year                      0\n",
              "uniqueid                  0\n",
              "Has a Bank account        0\n",
              "Type of Location          0\n",
              "Cell Phone Access         0\n",
              "household_size            0\n",
              "Respondent Age            0\n",
              "gender_of_respondent      0\n",
              "The relathip with head    0\n",
              "marital_status            0\n",
              "Level of Educuation       0\n",
              "Type of Job               0\n",
              "dtype: int64"
            ]
          },
          "metadata": {
            "tags": []
          },
          "execution_count": 230
        }
      ]
    },
    {
      "cell_type": "code",
      "metadata": {
        "id": "oZnUCnpFwmfB"
      },
      "source": [
        "# Other data cleaning procedures \r\n",
        "#Converting the year column to datetime\r\n",
        "df['year'] = pd.to_datetime(df['year'])"
      ],
      "execution_count": 188,
      "outputs": []
    },
    {
      "cell_type": "code",
      "metadata": {
        "id": "O-9PWHfqsPAK"
      },
      "source": [
        "#Changing the yes and nos in whether they have a bank account to true and false so that we can change to numbers for better analysis \r\n",
        "df['Has a Bank account'] = df['Has a Bank account'].apply(lambda x :  True if x == 'Yes' else  False)"
      ],
      "execution_count": 231,
      "outputs": []
    },
    {
      "cell_type": "code",
      "metadata": {
        "id": "2wCK-uRKq_ir"
      },
      "source": [
        "#Converting it to a float \r\n",
        "df['Has a Bank account']= df['Has a Bank account'].astype(float)"
      ],
      "execution_count": 232,
      "outputs": []
    },
    {
      "cell_type": "markdown",
      "metadata": {
        "id": "sES0GOa3wto-"
      },
      "source": [
        "## 5. Exploratory analysis "
      ]
    },
    {
      "cell_type": "code",
      "metadata": {
        "id": "z0XhBgVfxH2K"
      },
      "source": [
        "# Calculating measures of central tendancies \r\n",
        "# Doing some exploratory data analysis\r\n",
        "describe = df.describe()"
      ],
      "execution_count": 233,
      "outputs": []
    },
    {
      "cell_type": "code",
      "metadata": {
        "colab": {
          "base_uri": "https://localhost:8080/"
        },
        "id": "brlNGXc8F-_W",
        "outputId": "fe7b2573-5c72-4e34-dcb9-008f92041709"
      },
      "source": [
        "#Finding the Mode of most of the data for better understanding with what we are dealing with \r\n",
        "print(df['Cell Phone Access'].mode())\r\n",
        "print(df['country'].mode())\r\n",
        "print(df['Has a Bank account'].mode())\r\n",
        "print(df['household_size'].mode())\r\n",
        "print(df['Level of Educuation'].mode())\r\n",
        "print(df['marital_status'].mode())\r\n",
        "print(df['Respondent Age'].mode())\r\n",
        "print(df['gender_of_respondent'].mode())\r\n",
        "print(df['Type of Job'].mode())\r\n",
        "print(df['The relathip with head'].mode())\r\n",
        "print(df['Type of Location'].mode())\r\n",
        "print(df['year'].mode())"
      ],
      "execution_count": 234,
      "outputs": [
        {
          "output_type": "stream",
          "text": [
            "0    Yes\n",
            "dtype: object\n",
            "0    Rwanda\n",
            "dtype: object\n",
            "0    0.0\n",
            "dtype: float64\n",
            "0    2.0\n",
            "dtype: float64\n",
            "0    Primary education\n",
            "dtype: object\n",
            "0    Married/Living together\n",
            "dtype: object\n",
            "0    30.0\n",
            "dtype: float64\n",
            "0    Female\n",
            "dtype: object\n",
            "0    Self employed\n",
            "dtype: object\n",
            "0    Head of Household\n",
            "dtype: object\n",
            "0    Rural\n",
            "dtype: object\n",
            "0    2016\n",
            "dtype: int64\n"
          ],
          "name": "stdout"
        }
      ]
    },
    {
      "cell_type": "code",
      "metadata": {
        "colab": {
          "base_uri": "https://localhost:8080/"
        },
        "id": "gpJ1Dm2DxUJq",
        "outputId": "65a289a9-f22d-46dd-96cd-eabd6d7f5594"
      },
      "source": [
        "# Calculating measures of dispersion \r\n",
        "# Calculating the variance and standard deviation\r\n",
        "print(df['household_size'].var())\r\n",
        "print(df['Respondent Age'].var())\r\n",
        "print(df['household_size'].std())\r\n",
        "print(df['Respondent Age'].std())"
      ],
      "execution_count": 235,
      "outputs": [
        {
          "output_type": "stream",
          "text": [
            "5.20379827489179\n",
            "272.90390761391353\n",
            "2.2811835250351495\n",
            "16.51980349804178\n"
          ],
          "name": "stdout"
        }
      ]
    },
    {
      "cell_type": "code",
      "metadata": {
        "colab": {
          "base_uri": "https://localhost:8080/"
        },
        "id": "TuiffHXZxhM1",
        "outputId": "3531120d-f6d1-4405-fa23-297329b6f10d"
      },
      "source": [
        "# Calculating skewness and kurtosis \r\n",
        "print(df['household_size'].skew())\r\n",
        "print(df['Respondent Age'].skew())\r\n",
        "print(df['household_size'].kurt())\r\n",
        "print(df['Respondent Age'].kurt())"
      ],
      "execution_count": 236,
      "outputs": [
        {
          "output_type": "stream",
          "text": [
            "0.9741086837897069\n",
            "0.840661747532081\n",
            "1.1538690689335573\n",
            "0.09844652254807196\n"
          ],
          "name": "stdout"
        }
      ]
    },
    {
      "cell_type": "code",
      "metadata": {
        "colab": {
          "base_uri": "https://localhost:8080/"
        },
        "id": "obeKBSRhNV4j",
        "outputId": "f9d8015d-cee0-401f-8e28-72b35672e9f2"
      },
      "source": [
        "#Bivariate analysis \r\n",
        "df['household_size'].corr(df['Respondent Age'])"
      ],
      "execution_count": 237,
      "outputs": [
        {
          "output_type": "execute_result",
          "data": {
            "text/plain": [
              "-0.11970919507762415"
            ]
          },
          "metadata": {
            "tags": []
          },
          "execution_count": 237
        }
      ]
    },
    {
      "cell_type": "code",
      "metadata": {
        "colab": {
          "base_uri": "https://localhost:8080/"
        },
        "id": "f_15PaiJB2ZQ",
        "outputId": "0567c2b7-7606-436e-da66-92b5966e8830"
      },
      "source": [
        "df['Has a Bank account'].corr(df['household_size'])"
      ],
      "execution_count": 245,
      "outputs": [
        {
          "output_type": "execute_result",
          "data": {
            "text/plain": [
              "-0.0230498473397427"
            ]
          },
          "metadata": {
            "tags": []
          },
          "execution_count": 245
        }
      ]
    },
    {
      "cell_type": "code",
      "metadata": {
        "colab": {
          "base_uri": "https://localhost:8080/"
        },
        "id": "PN9jZ0wZB82R",
        "outputId": "033d767e-3b7e-455f-b467-5e2c5de45890"
      },
      "source": [
        "df['Has a Bank account'].corr(df['Respondent Age'])"
      ],
      "execution_count": 246,
      "outputs": [
        {
          "output_type": "execute_result",
          "data": {
            "text/plain": [
              "0.01964467227121254"
            ]
          },
          "metadata": {
            "tags": []
          },
          "execution_count": 246
        }
      ]
    },
    {
      "cell_type": "code",
      "metadata": {
        "colab": {
          "base_uri": "https://localhost:8080/"
        },
        "id": "oMigNfDbOB4s",
        "outputId": "dfab48e4-ced2-4044-b867-0da830bdec9d"
      },
      "source": [
        "from scipy import stats\r\n",
        "stats.zscore(df['household_size'])"
      ],
      "execution_count": 238,
      "outputs": [
        {
          "output_type": "execute_result",
          "data": {
            "text/plain": [
              "array([-0.30188629,  0.57487037,  0.57487037, ...,  0.57487037,\n",
              "        1.45162703,  2.76676201])"
            ]
          },
          "metadata": {
            "tags": []
          },
          "execution_count": 238
        }
      ]
    },
    {
      "cell_type": "code",
      "metadata": {
        "colab": {
          "base_uri": "https://localhost:8080/"
        },
        "id": "41JORBI2CKGn",
        "outputId": "6a9e4312-4edb-4f39-fa55-01cd040b92ef"
      },
      "source": [
        "stats.zscore(df['Has a Bank account'])"
      ],
      "execution_count": 247,
      "outputs": [
        {
          "output_type": "execute_result",
          "data": {
            "text/plain": [
              "array([ 2.46578036, -0.40555113,  2.46578036, ..., -0.40555113,\n",
              "       -0.40555113, -0.40555113])"
            ]
          },
          "metadata": {
            "tags": []
          },
          "execution_count": 247
        }
      ]
    },
    {
      "cell_type": "code",
      "metadata": {
        "colab": {
          "base_uri": "https://localhost:8080/",
          "height": 336
        },
        "id": "t2glcueRw1ra",
        "outputId": "0aa1a7d8-96e6-429b-abf3-1f42640c7f0e"
      },
      "source": [
        "# Plotting univariate analysis\r\n",
        "sns.distplot(describe)"
      ],
      "execution_count": 199,
      "outputs": [
        {
          "output_type": "stream",
          "text": [
            "/usr/local/lib/python3.6/dist-packages/seaborn/distributions.py:2557: FutureWarning: `distplot` is a deprecated function and will be removed in a future version. Please adapt your code to use either `displot` (a figure-level function with similar flexibility) or `histplot` (an axes-level function for histograms).\n",
            "  warnings.warn(msg, FutureWarning)\n"
          ],
          "name": "stderr"
        },
        {
          "output_type": "execute_result",
          "data": {
            "text/plain": [
              "<matplotlib.axes._subplots.AxesSubplot at 0x7faa1441dc18>"
            ]
          },
          "metadata": {
            "tags": []
          },
          "execution_count": 199
        },
        {
          "output_type": "display_data",
          "data": {
            "image/png": "[encoded data removed]",
            "text/plain": [
              "<Figure size 432x288 with 1 Axes>"
            ]
          },
          "metadata": {
            "tags": [],
            "needs_background": "light"
          }
        }
      ]
    },
    {
      "cell_type": "code",
      "metadata": {
        "id": "aUgMbItb0475"
      },
      "source": [
        "Age = df['Level of Educuation'].value_counts()"
      ],
      "execution_count": 201,
      "outputs": []
    },
    {
      "cell_type": "code",
      "metadata": {
        "colab": {
          "base_uri": "https://localhost:8080/",
          "height": 582
        },
        "id": "Rdlp5vMAQdy8",
        "outputId": "f5803772-44b1-46f8-e4b9-f9aebf4df539"
      },
      "source": [
        "fig, ((ax1, ax2)) = plt.subplots(1,2,figsize=(20,7))\r\n",
        "fig.suptitle('Boxplots')\r\n",
        "sns.boxplot(df['household_size'], ax=ax1)\r\n",
        "sns.boxplot(df['Respondent Age'], ax=ax2)\r\n",
        "plt.show()"
      ],
      "execution_count": 202,
      "outputs": [
        {
          "output_type": "stream",
          "text": [
            "/usr/local/lib/python3.6/dist-packages/seaborn/_decorators.py:43: FutureWarning: Pass the following variable as a keyword arg: x. From version 0.12, the only valid positional argument will be `data`, and passing other arguments without an explicit keyword will result in an error or misinterpretation.\n",
            "  FutureWarning\n",
            "/usr/local/lib/python3.6/dist-packages/seaborn/_decorators.py:43: FutureWarning: Pass the following variable as a keyword arg: x. From version 0.12, the only valid positional argument will be `data`, and passing other arguments without an explicit keyword will result in an error or misinterpretation.\n",
            "  FutureWarning\n"
          ],
          "name": "stderr"
        },
        {
          "output_type": "display_data",
          "data": {
            "image/png": "[encoded data removed]",
            "text/plain": [
              "<Figure size 1440x504 with 2 Axes>"
            ]
          },
          "metadata": {
            "tags": [],
            "needs_background": "light"
          }
        }
      ]
    },
    {
      "cell_type": "code",
      "metadata": {
        "colab": {
          "base_uri": "https://localhost:8080/",
          "height": 295
        },
        "id": "PX_L38Auw1xb",
        "outputId": "4db3d84e-aee1-4a92-8526-0102e718c401"
      },
      "source": [
        "# Plotting bivariate analysis\r\n",
        "plt.scatter(df['household_size'] ,df[\"Respondent Age\"])\r\n",
        "plt.title('Household size vs Respondent age ')\r\n",
        "plt.xlabel('Household size')\r\n",
        "plt.ylabel('Respondent Age')\r\n",
        "plt.show()\r\n"
      ],
      "execution_count": 203,
      "outputs": [
        {
          "output_type": "display_data",
          "data": {
            "image/png": "[encoded data removed]",
            "text/plain": [
              "<Figure size 432x288 with 1 Axes>"
            ]
          },
          "metadata": {
            "tags": [],
            "needs_background": "light"
          }
        }
      ]
    },
    {
      "cell_type": "code",
      "metadata": {
        "colab": {
          "base_uri": "https://localhost:8080/",
          "height": 295
        },
        "id": "VAz9pqhJDHmx",
        "outputId": "ec741c51-b2da-44eb-f017-cd12f5b86881"
      },
      "source": [
        "plt.scatter(df['Has a Bank account'],df['household_size'])\r\n",
        "plt.title('Are Having a bank account and the size of your house related?')\r\n",
        "plt.xlabel('Bank account')\r\n",
        "plt.ylabel('household_size')\r\n",
        "plt.show()"
      ],
      "execution_count": 248,
      "outputs": [
        {
          "output_type": "display_data",
          "data": {
            "image/png": "[encoded data removed]",
            "text/plain": [
              "<Figure size 432x288 with 1 Axes>"
            ]
          },
          "metadata": {
            "tags": [],
            "needs_background": "light"
          }
        }
      ]
    },
    {
      "cell_type": "code",
      "metadata": {
        "colab": {
          "base_uri": "https://localhost:8080/"
        },
        "id": "savOGZbkw13V",
        "outputId": "6bd7dcfb-4e96-4edd-ae59-450d3063cbbd"
      },
      "source": [
        "# Data reduction \r\n",
        "!pip install factor_analyzer==0.2.3\r\n",
        "from factor_analyzer.factor_analyzer import calculate_bartlett_sphericity\r\n",
        "from factor_analyzer import FactorAnalyzer"
      ],
      "execution_count": 204,
      "outputs": [
        {
          "output_type": "stream",
          "text": [
            "Requirement already satisfied: factor_analyzer==0.2.3 in /usr/local/lib/python3.6/dist-packages (0.2.3)\n",
            "Requirement already satisfied: numpy in /usr/local/lib/python3.6/dist-packages (from factor_analyzer==0.2.3) (1.19.5)\n",
            "Requirement already satisfied: scipy in /usr/local/lib/python3.6/dist-packages (from factor_analyzer==0.2.3) (1.4.1)\n",
            "Requirement already satisfied: pandas in /usr/local/lib/python3.6/dist-packages (from factor_analyzer==0.2.3) (1.1.5)\n",
            "Requirement already satisfied: pytz>=2017.2 in /usr/local/lib/python3.6/dist-packages (from pandas->factor_analyzer==0.2.3) (2018.9)\n",
            "Requirement already satisfied: python-dateutil>=2.7.3 in /usr/local/lib/python3.6/dist-packages (from pandas->factor_analyzer==0.2.3) (2.8.1)\n",
            "Requirement already satisfied: six>=1.5 in /usr/local/lib/python3.6/dist-packages (from python-dateutil>=2.7.3->pandas->factor_analyzer==0.2.3) (1.15.0)\n"
          ],
          "name": "stdout"
        }
      ]
    },
    {
      "cell_type": "code",
      "metadata": {
        "colab": {
          "base_uri": "https://localhost:8080/"
        },
        "id": "CZsFwF9hTeXH",
        "outputId": "04477c1b-6f32-4ea7-a02d-45934001b1b6"
      },
      "source": [
        "# Getting the chi square and the p-value of the data \r\n",
        "chi_square_value,p_value=calculate_bartlett_sphericity(df)\r\n",
        "chi_square_value, p_value\r\n"
      ],
      "execution_count": 205,
      "outputs": [
        {
          "output_type": "execute_result",
          "data": {
            "text/plain": [
              "(356.0000237238052, 1.5559218930361988e-37)"
            ]
          },
          "metadata": {
            "tags": []
          },
          "execution_count": 205
        }
      ]
    },
    {
      "cell_type": "code",
      "metadata": {
        "id": "eVs12y8DUDP2"
      },
      "source": [
        "# We assign the numerical data to a variable x \r\n",
        "x = df[['household_size', 'Respondent Age','Has a Bank account']]"
      ],
      "execution_count": 207,
      "outputs": []
    },
    {
      "cell_type": "code",
      "metadata": {
        "id": "AdrIMl4WTx-t"
      },
      "source": [
        "#Calculating the KMO using the factor analyser\r\n",
        "from factor_analyzer.factor_analyzer import calculate_kmo\r\n",
        "kmo_all,kmo_model=calculate_kmo(x)"
      ],
      "execution_count": 208,
      "outputs": []
    },
    {
      "cell_type": "code",
      "metadata": {
        "id": "LxkwTrmlUahC"
      },
      "source": [
        "#Using the factor analyzer to analyse\r\n",
        "fa = FactorAnalyzer()\r\n",
        "fa.analyze(x, 3, rotation=None)\r\n"
      ],
      "execution_count": 209,
      "outputs": []
    },
    {
      "cell_type": "code",
      "metadata": {
        "colab": {
          "base_uri": "https://localhost:8080/",
          "height": 142
        },
        "id": "C31E4-ZNUfud",
        "outputId": "24adf950-0cc6-44d7-e495-06af57e2d285"
      },
      "source": [
        "# Calculating the eigenvalues\r\n",
        "ev, v = fa.get_eigenvalues()\r\n",
        "ev"
      ],
      "execution_count": 210,
      "outputs": [
        {
          "output_type": "execute_result",
          "data": {
            "text/html": [
              "<div>\n",
              "<style scoped>\n",
              "    .dataframe tbody tr th:only-of-type {\n",
              "        vertical-align: middle;\n",
              "    }\n",
              "\n",
              "    .dataframe tbody tr th {\n",
              "        vertical-align: top;\n",
              "    }\n",
              "\n",
              "    .dataframe thead th {\n",
              "        text-align: right;\n",
              "    }\n",
              "</style>\n",
              "<table border=\"1\" class=\"dataframe\">\n",
              "  <thead>\n",
              "    <tr style=\"text-align: right;\">\n",
              "      <th></th>\n",
              "      <th>Original_Eigenvalues</th>\n",
              "    </tr>\n",
              "  </thead>\n",
              "  <tbody>\n",
              "    <tr>\n",
              "      <th>0</th>\n",
              "      <td>1.126893</td>\n",
              "    </tr>\n",
              "    <tr>\n",
              "      <th>1</th>\n",
              "      <td>0.992866</td>\n",
              "    </tr>\n",
              "    <tr>\n",
              "      <th>2</th>\n",
              "      <td>0.880241</td>\n",
              "    </tr>\n",
              "  </tbody>\n",
              "</table>\n",
              "</div>"
            ],
            "text/plain": [
              "   Original_Eigenvalues\n",
              "0              1.126893\n",
              "1              0.992866\n",
              "2              0.880241"
            ]
          },
          "metadata": {
            "tags": []
          },
          "execution_count": 210
        }
      ]
    },
    {
      "cell_type": "code",
      "metadata": {
        "colab": {
          "base_uri": "https://localhost:8080/",
          "height": 176
        },
        "id": "gIgs0IlTUp5A",
        "outputId": "8e8fb03d-a796-4d5f-c0d7-2e7c0f0b2796"
      },
      "source": [
        "# Reducing the factor to only one \r\n",
        "fa = FactorAnalyzer()\r\n",
        "fa.analyze(x, 1, rotation=\"varimax\")\r\n",
        "fa.loadings"
      ],
      "execution_count": 211,
      "outputs": [
        {
          "output_type": "stream",
          "text": [
            "/usr/local/lib/python3.6/dist-packages/factor_analyzer/factor_analyzer.py:770: UserWarning: No rotation will be performed when the number of factors equals 1.\n",
            "  warnings.warn('No rotation will be performed when '\n"
          ],
          "name": "stderr"
        },
        {
          "output_type": "execute_result",
          "data": {
            "text/html": [
              "<div>\n",
              "<style scoped>\n",
              "    .dataframe tbody tr th:only-of-type {\n",
              "        vertical-align: middle;\n",
              "    }\n",
              "\n",
              "    .dataframe tbody tr th {\n",
              "        vertical-align: top;\n",
              "    }\n",
              "\n",
              "    .dataframe thead th {\n",
              "        text-align: right;\n",
              "    }\n",
              "</style>\n",
              "<table border=\"1\" class=\"dataframe\">\n",
              "  <thead>\n",
              "    <tr style=\"text-align: right;\">\n",
              "      <th></th>\n",
              "      <th>Factor1</th>\n",
              "    </tr>\n",
              "  </thead>\n",
              "  <tbody>\n",
              "    <tr>\n",
              "      <th>household_size</th>\n",
              "      <td>0.374741</td>\n",
              "    </tr>\n",
              "    <tr>\n",
              "      <th>Respondent Age</th>\n",
              "      <td>-0.319438</td>\n",
              "    </tr>\n",
              "    <tr>\n",
              "      <th>Has a Bank account</th>\n",
              "      <td>-0.061503</td>\n",
              "    </tr>\n",
              "  </tbody>\n",
              "</table>\n",
              "</div>"
            ],
            "text/plain": [
              "                     Factor1\n",
              "household_size      0.374741\n",
              "Respondent Age     -0.319438\n",
              "Has a Bank account -0.061503"
            ]
          },
          "metadata": {
            "tags": []
          },
          "execution_count": 211
        }
      ]
    },
    {
      "cell_type": "code",
      "metadata": {
        "colab": {
          "base_uri": "https://localhost:8080/",
          "height": 142
        },
        "id": "vJmmcPiSb23U",
        "outputId": "6d3965fe-1b47-482d-da26-38cc4b760779"
      },
      "source": [
        "# Calculating the SSloadings, and variance \r\n",
        "fa.get_factor_variance()"
      ],
      "execution_count": 123,
      "outputs": [
        {
          "output_type": "execute_result",
          "data": {
            "text/html": [
              "<div>\n",
              "<style scoped>\n",
              "    .dataframe tbody tr th:only-of-type {\n",
              "        vertical-align: middle;\n",
              "    }\n",
              "\n",
              "    .dataframe tbody tr th {\n",
              "        vertical-align: top;\n",
              "    }\n",
              "\n",
              "    .dataframe thead th {\n",
              "        text-align: right;\n",
              "    }\n",
              "</style>\n",
              "<table border=\"1\" class=\"dataframe\">\n",
              "  <thead>\n",
              "    <tr style=\"text-align: right;\">\n",
              "      <th></th>\n",
              "      <th>Factor1</th>\n",
              "    </tr>\n",
              "  </thead>\n",
              "  <tbody>\n",
              "    <tr>\n",
              "      <th>SS Loadings</th>\n",
              "      <td>0.243647</td>\n",
              "    </tr>\n",
              "    <tr>\n",
              "      <th>Proportion Var</th>\n",
              "      <td>0.081216</td>\n",
              "    </tr>\n",
              "    <tr>\n",
              "      <th>Cumulative Var</th>\n",
              "      <td>0.081216</td>\n",
              "    </tr>\n",
              "  </tbody>\n",
              "</table>\n",
              "</div>"
            ],
            "text/plain": [
              "                 Factor1\n",
              "SS Loadings     0.243647\n",
              "Proportion Var  0.081216\n",
              "Cumulative Var  0.081216"
            ]
          },
          "metadata": {
            "tags": []
          },
          "execution_count": 123
        }
      ]
    },
    {
      "cell_type": "markdown",
      "metadata": {
        "id": "1srboBJTx9gj"
      },
      "source": [
        "## 6. Implementing the solution "
      ]
    },
    {
      "cell_type": "code",
      "metadata": {
        "id": "u5ih-vgByGF3"
      },
      "source": [
        "# Implementing the soloution\r\n"
      ],
      "execution_count": null,
      "outputs": []
    },
    {
      "cell_type": "code",
      "metadata": {
        "id": "DBcm5ql35_DY"
      },
      "source": [
        "# Using the PCA analysis\r\n",
        "#Splitting the data into numerical and categorical \r\n",
        "X = df.drop(['Has a Bank account','Respondent Age','household_size'], 1)\r\n",
        "y = df[['Has a Bank account','Respondent Age','household_size']]"
      ],
      "execution_count": 212,
      "outputs": []
    },
    {
      "cell_type": "code",
      "metadata": {
        "id": "a9azuHOa6jGq"
      },
      "source": [
        "# Splitting the data into to so that later we can fit the classifier\r\n",
        "from sklearn.model_selection import train_test_split\r\n",
        "\r\n",
        "X_train, X_test, y_train, y_test = train_test_split(X, y, test_size=0.2, random_state=0)"
      ],
      "execution_count": 213,
      "outputs": []
    },
    {
      "cell_type": "code",
      "metadata": {
        "id": "xfW4u2Yk6sLv"
      },
      "source": [
        "# Fitting the Standard Scaler to transform the split data \r\n",
        "from sklearn.preprocessing import StandardScaler\r\n",
        "\r\n",
        "sc = StandardScaler()\r\n",
        "y_train = sc.fit_transform(y_train)\r\n",
        "y_test = sc.transform(y_test)"
      ],
      "execution_count": 214,
      "outputs": []
    },
    {
      "cell_type": "code",
      "metadata": {
        "id": "zTtFY0p28Hkr"
      },
      "source": [
        "# Fitting the PCA in and transforming the data onto the pca line\r\n",
        "from sklearn.decomposition import PCA\r\n",
        "\r\n",
        "pca = PCA()\r\n",
        "y_train = pca.fit_transform(y_train)\r\n",
        "y_test = pca.transform(y_test)"
      ],
      "execution_count": 215,
      "outputs": []
    },
    {
      "cell_type": "code",
      "metadata": {
        "colab": {
          "base_uri": "https://localhost:8080/"
        },
        "id": "iUmVBI597nxF",
        "outputId": "6051199f-35f6-4968-c6ed-db5d3c6a08a9"
      },
      "source": [
        "#Using the PCA to get the variance ratio\r\n",
        "explained_variance = pca.explained_variance_ratio_\r\n",
        "explained_variance"
      ],
      "execution_count": 216,
      "outputs": [
        {
          "output_type": "execute_result",
          "data": {
            "text/plain": [
              "array([0.37537635, 0.33059499, 0.29402866])"
            ]
          },
          "metadata": {
            "tags": []
          },
          "execution_count": 216
        }
      ]
    },
    {
      "cell_type": "code",
      "metadata": {
        "id": "WeDJPwyj9Y_F"
      },
      "source": [
        "#Transforming the components off the PCA line\r\n",
        "from sklearn.decomposition import PCA\r\n",
        "\r\n",
        "pca = PCA(n_components=1)\r\n",
        "y_train = pca.fit_transform(y_train)\r\n",
        "y_test = pca.transform(y_test)"
      ],
      "execution_count": 217,
      "outputs": []
    },
    {
      "cell_type": "code",
      "metadata": {
        "id": "51OfXWgf9kpI"
      },
      "source": [
        "# Predicting where the other points could be \r\n",
        "from sklearn.ensemble import RandomForestClassifier\r\n",
        "\r\n",
        "classifier = RandomForestClassifier(max_depth=2, random_state=0)\r\n",
        "classifier.fit(y_train,X_train)\r\n",
        "\r\n",
        "X_pred = classifier.predict(y_test)"
      ],
      "execution_count": null,
      "outputs": []
    },
    {
      "cell_type": "code",
      "metadata": {
        "id": "MyCZbDzDIQn9"
      },
      "source": [
        "# Getting more predictions\r\n",
        "from sklearn.metrics import confusion_matrix\r\n",
        "from sklearn.metrics import accuracy_score\r\n",
        "\r\n",
        "cm = confusion_matrix(X_test, X_pred)\r\n",
        "print(cm)\r\n",
        "print('Accuracy' , accuracy_score(y_test, y_pred))"
      ],
      "execution_count": null,
      "outputs": []
    },
    {
      "cell_type": "markdown",
      "metadata": {
        "id": "4i1PVEKwyNTE"
      },
      "source": [
        "## 7. Challenging the solution "
      ]
    },
    {
      "cell_type": "code",
      "metadata": {
        "id": "898TmDRvyQho"
      },
      "source": [
        "# Challenging the solution "
      ],
      "execution_count": null,
      "outputs": []
    },
    {
      "cell_type": "markdown",
      "metadata": {
        "id": "tsvU-8n6yfJd"
      },
      "source": [
        "## 8. Follow Up Questions"
      ]
    },
    {
      "cell_type": "markdown",
      "metadata": {
        "id": "A1O3qEC4ymMJ"
      },
      "source": [
        "## Did we have the right data "
      ]
    },
    {
      "cell_type": "markdown",
      "metadata": {
        "id": "Cre_CnBY_pvb"
      },
      "source": [
        "No we did not "
      ]
    },
    {
      "cell_type": "markdown",
      "metadata": {
        "id": "G0jNM1B5_sim"
      },
      "source": [
        "## Do we need other data to answer this question "
      ]
    },
    {
      "cell_type": "markdown",
      "metadata": {
        "id": "KLRTGbhk_34k"
      },
      "source": [
        "Yes we need more details about the bank to answer this question we needed to know how many people have bank accounts from each area and the other factors in this dataset "
      ]
    },
    {
      "cell_type": "markdown",
      "metadata": {
        "id": "RCjJOD_7BiUj"
      },
      "source": [
        "##   Do we have the right question  "
      ]
    }
  ]
}